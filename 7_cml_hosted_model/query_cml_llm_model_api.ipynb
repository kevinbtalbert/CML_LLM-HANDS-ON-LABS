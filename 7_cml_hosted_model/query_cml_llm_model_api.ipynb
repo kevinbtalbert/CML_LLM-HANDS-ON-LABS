{
 "cells": [
  {
   "cell_type": "markdown",
   "metadata": {},
   "source": [
    "## 2 Ways to Use Deployed CML Model in Development\n",
    "### 1. CML Python Library\n",
    "\n",
    "Look at https://docs.cloudera.com/machine-learning/cloud/api/topics/ml-apiv2-usage-examples.html for documentation on Python library."
   ]
  },
  {
   "cell_type": "markdown",
   "metadata": {},
   "source": [
    "#### Launch CML client utility"
   ]
  },
  {
   "cell_type": "code",
   "execution_count": null,
   "metadata": {},
   "outputs": [],
   "source": [
    "import cmlapi\n",
    "import json\n",
    "import sys\n",
    "client = cmlapi.default_client(url=\"<workspace domain>\", cml_api_key=\"<api key>\")\n",
    "client.list_projects()\n"
   ]
  },
  {
   "cell_type": "markdown",
   "metadata": {},
   "source": [
    "#### Locate and assign your CML project"
   ]
  },
  {
   "cell_type": "code",
   "execution_count": null,
   "metadata": {},
   "outputs": [],
   "source": [
    "projects = client.list_projects(search_filter=json.dumps({\"name\": \"<your project name>\"}))\n",
    "project = projects.projects[0] # assuming only one project is returned by the above query"
   ]
  },
  {
   "cell_type": "markdown",
   "metadata": {},
   "source": [
    "####  Locate CML model"
   ]
  },
  {
   "cell_type": "code",
   "execution_count": null,
   "metadata": {},
   "outputs": [],
   "source": [
    "## TO DO -- ADD get model id, model build id, and model deployment id\n",
    "model_deployment = client.get_model_deployment(project.id, model.id, model_build.id, model_deployment.id)\n",
    "if model_deployment.status != \"deployed\":\n",
    "\tprint(\"model deployment failed, see UI for more information\")\n",
    "\tsys.exit(1)\n",
    "print(\"model deployed successfully!\")"
   ]
  },
  {
   "cell_type": "markdown",
   "metadata": {},
   "source": [
    "### 2. REST API (Requests library)"
   ]
  },
  {
   "cell_type": "code",
   "execution_count": null,
   "id": "2e367ac4-5e1c-4aba-9ce1-60113f4c7fbf",
   "metadata": {
    "tags": []
   },
   "outputs": [
    {
     "name": "stdout",
     "output_type": "stream",
     "text": [
      "https://127.0.0.1:8090/\n"
     ]
    }
   ],
   "source": [
    "import requests\n",
    "import json\n",
    "import os\n",
    "\n",
    "# Use CML model REST endpoint -- Replace with your own!\n",
    "url = \"https://<rest endpoint>.cloudera.site/\"\n",
    "\n",
    "# Headers for the POST request\n",
    "headers = {\n",
    "    \"Content-Type\": \"application/json\"\n",
    "}\n",
    "\n",
    "# JSON Body for the POST request\n",
    "payload = {\n",
    "    \"prompt\": \"What is Iceberg?\"\n",
    "}\n",
    "\n",
    "# Convert Python dictionary to JSON\n",
    "payload_json = json.dumps(payload)\n",
    "\n",
    "# Make the POST request\n",
    "response = requests.post(url, headers=headers, data=payload_json)\n",
    "\n",
    "# Check if the request was successful\n",
    "if response.status_code == 200:\n",
    "    print(f\"Success! Received response: {response.json()}\")\n",
    "else:\n",
    "    print(f\"Failed to make request. Status code: {response.status_code}, Response: {response.text}\")\n"
   ]
  }
 ],
 "metadata": {
  "kernelspec": {
   "display_name": "Python 3 (ipykernel)",
   "language": "python",
   "name": "python3"
  },
  "language_info": {
   "codemirror_mode": {
    "name": "ipython",
    "version": 3
   },
   "file_extension": ".py",
   "mimetype": "text/x-python",
   "name": "python",
   "nbconvert_exporter": "python",
   "pygments_lexer": "ipython3",
   "version": "3.9.16"
  }
 },
 "nbformat": 4,
 "nbformat_minor": 5
}
