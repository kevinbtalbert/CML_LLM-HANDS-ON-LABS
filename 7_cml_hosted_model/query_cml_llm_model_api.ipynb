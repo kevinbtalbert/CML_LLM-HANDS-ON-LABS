{
 "cells": [
  {
   "cell_type": "markdown",
   "id": "be8ae8b8",
   "metadata": {},
   "source": [
    "## 2 Ways to Use Deployed CML Model in Development\n",
    "\n",
    "Look at https://docs.cloudera.com/machine-learning/cloud/api/topics/ml-apiv2-usage-examples.html for documentation on Python library."
   ]
  },
  {
   "cell_type": "markdown",
   "id": "02ec823e-464f-4c23-9e0e-fd5b207059b9",
   "metadata": {},
   "source": [
    "### 1. Use CML Python Library to Load Model Inputs"
   ]
  },
  {
   "cell_type": "markdown",
   "id": "88a7ee5f",
   "metadata": {},
   "source": [
    "#### Launch CML client utility"
   ]
  },
  {
   "cell_type": "code",
   "execution_count": 37,
   "id": "765055d6",
   "metadata": {
    "tags": []
   },
   "outputs": [
    {
     "data": {
      "text/plain": [
       "{'next_page_token': '',\n",
       " 'projects': [{'created_at': datetime.datetime(2023, 12, 21, 0, 56, 5, 481985, tzinfo=tzlocal()),\n",
       "               'creation_status': 'success',\n",
       "               'creator': {'email': 'ktalbert@cloudera.com',\n",
       "                           'name': 'Kevin Talbert',\n",
       "                           'username': 'ktalbert'},\n",
       "               'default_engine_type': 'ml_runtime',\n",
       "               'description': 'This AMP deploys LLAMA 2 7 billion token model '\n",
       "                              'as a CML model, with replicas. Requires GPUs.\\n',\n",
       "               'environment': '{\"MODEL_NAME\":\"LLAMA-2-7B '\n",
       "                              'CML\",\"CDSW_APP_POLLING_ENDPOINT\":\"/\",\"PROJECT_OWNER\":\"ktalbert\"}',\n",
       "               'ephemeral_storage_limit': 20,\n",
       "               'ephemeral_storage_request': 0,\n",
       "               'id': '0i8q-r17t-8r3a-o5db',\n",
       "               'name': 'Shared LLM Model for Hands on Lab - ktalbert',\n",
       "               'owner': {'email': 'ktalbert@cloudera.com',\n",
       "                         'name': 'Kevin Talbert',\n",
       "                         'username': 'ktalbert'},\n",
       "               'permissions': {'admin': True,\n",
       "                               'business_user': True,\n",
       "                               'inherit': False,\n",
       "                               'operator': True,\n",
       "                               'read': True,\n",
       "                               'write': True},\n",
       "               'shared_memory_limit': 0,\n",
       "               'updated_at': datetime.datetime(2023, 12, 21, 0, 56, 16, 150732, tzinfo=tzlocal()),\n",
       "               'visibility': 'private'},\n",
       "              {'created_at': datetime.datetime(2023, 12, 20, 23, 40, 2, 343742, tzinfo=tzlocal()),\n",
       "               'creation_status': 'success',\n",
       "               'creator': {'email': 'ktalbert@cloudera.com',\n",
       "                           'name': 'Kevin Talbert',\n",
       "                           'username': 'ktalbert'},\n",
       "               'default_engine_type': 'ml_runtime',\n",
       "               'description': 'This AMP is used for Cloudera Machine Learning '\n",
       "                              \"Hands on Labs and focuses on CML's integrations \"\n",
       "                              'with external components as well as running\\n'\n",
       "                              'use case entirely in CML.\\n',\n",
       "               'environment': '{\"AWS_ACCESS_KEY_ID\":\"x\",\"AWS_SECRET_ACCESS_KEY\":\"x\",\"AWS_DEFAULT_REGION\":\"us-west-2\",\"PINECONE_API_KEY\":\"3f61d6b2-27e9-4bd0-b72a-b4e1948c1133\",\"PINECONE_ENVIRONMENT\":\"gcp-starter\",\"PINECONE_INDEX\":\"cml-default\",\"CDSW_APP_POLLING_ENDPOINT\":\"/\",\"PROJECT_OWNER\":\"ktalbert\"}',\n",
       "               'ephemeral_storage_limit': 20,\n",
       "               'ephemeral_storage_request': 0,\n",
       "               'id': 'mxi9-v83d-qud3-0l70',\n",
       "               'name': 'Hands on Lab Workshop with LLM - ktalbert',\n",
       "               'owner': {'email': 'ktalbert@cloudera.com',\n",
       "                         'name': 'Kevin Talbert',\n",
       "                         'username': 'ktalbert'},\n",
       "               'permissions': {'admin': True,\n",
       "                               'business_user': True,\n",
       "                               'inherit': False,\n",
       "                               'operator': True,\n",
       "                               'read': True,\n",
       "                               'write': True},\n",
       "               'shared_memory_limit': 0,\n",
       "               'updated_at': datetime.datetime(2023, 12, 21, 19, 32, 25, 633098, tzinfo=tzlocal()),\n",
       "               'visibility': 'private'}]}"
      ]
     },
     "execution_count": 37,
     "metadata": {},
     "output_type": "execute_result"
    }
   ],
   "source": [
    "import cmlapi\n",
    "import json\n",
    "import sys\n",
    "import os\n",
    "client = cmlapi.default_client(url=os.getenv(\"CDSW_API_URL\").replace(\"/api/v1\", \"\"), cml_api_key=os.getenv(\"CDSW_APIV2_KEY\"))\n",
    "client.list_projects()"
   ]
  },
  {
   "cell_type": "markdown",
   "id": "3468ad3d",
   "metadata": {},
   "source": [
    "#### Locate and assign your CML project"
   ]
  },
  {
   "cell_type": "code",
   "execution_count": 38,
   "id": "3f6347b8",
   "metadata": {
    "tags": []
   },
   "outputs": [
    {
     "name": "stdout",
     "output_type": "stream",
     "text": [
      "{'created_at': datetime.datetime(2023, 12, 21, 0, 56, 5, 481985, tzinfo=tzlocal()),\n",
      " 'creation_status': 'success',\n",
      " 'creator': {'email': 'ktalbert@cloudera.com',\n",
      "             'name': 'Kevin Talbert',\n",
      "             'username': 'ktalbert'},\n",
      " 'default_engine_type': 'ml_runtime',\n",
      " 'description': 'This AMP deploys LLAMA 2 7 billion token model as a CML '\n",
      "                'model, with replicas. Requires GPUs.\\n',\n",
      " 'environment': '{\"MODEL_NAME\":\"LLAMA-2-7B '\n",
      "                'CML\",\"CDSW_APP_POLLING_ENDPOINT\":\"/\",\"PROJECT_OWNER\":\"ktalbert\"}',\n",
      " 'ephemeral_storage_limit': 20,\n",
      " 'ephemeral_storage_request': 0,\n",
      " 'id': '0i8q-r17t-8r3a-o5db',\n",
      " 'name': 'Shared LLM Model for Hands on Lab - ktalbert',\n",
      " 'owner': {'email': 'ktalbert@cloudera.com',\n",
      "           'name': 'Kevin Talbert',\n",
      "           'username': 'ktalbert'},\n",
      " 'permissions': {'admin': True,\n",
      "                 'business_user': True,\n",
      "                 'inherit': False,\n",
      "                 'operator': True,\n",
      "                 'read': True,\n",
      "                 'write': True},\n",
      " 'shared_memory_limit': 0,\n",
      " 'updated_at': datetime.datetime(2023, 12, 21, 0, 56, 16, 150732, tzinfo=tzlocal()),\n",
      " 'visibility': 'private'}\n"
     ]
    }
   ],
   "source": [
    "projects = client.list_projects(search_filter=json.dumps({\"name\": \"Shared LLM Model for Hands on Lab\"}))\n",
    "project = projects.projects[0] # assuming only one project is returned by the above query\n",
    "print(project)"
   ]
  },
  {
   "cell_type": "markdown",
   "id": "072420cf",
   "metadata": {},
   "source": [
    "####  Locate CML model and Load Access Key for Model to Environment"
   ]
  },
  {
   "cell_type": "code",
   "execution_count": 39,
   "id": "ed0db1b1-3b7c-4f3d-9940-b97866034d6f",
   "metadata": {
    "tags": []
   },
   "outputs": [],
   "source": [
    "## Here we assume that only one model has been deployed in the project, if this is not true this should be adjusted (this is reflected by the placeholder 0 in the array)\n",
    "model = client.list_models(project_id=project.id)\n",
    "selected_model = model.models[0]\n",
    "\n",
    "## Save the access key for the model to the environment variable of this project\n",
    "os.environ[\"MODEL_ACCESS_KEY\"] = selected_model.access_key"
   ]
  },
  {
   "cell_type": "markdown",
   "id": "e68ec55e-5a94-4b58-97fc-8abb668d2b83",
   "metadata": {
    "tags": []
   },
   "source": [
    "#### Generate Model Endpoint URL for Request"
   ]
  },
  {
   "cell_type": "code",
   "execution_count": 40,
   "id": "16fbf297",
   "metadata": {
    "tags": []
   },
   "outputs": [
    {
     "name": "stdout",
     "output_type": "stream",
     "text": [
      "https://modelservice.ml-c2033a45-771.se-sandb.a465-9q4k.cloudera.site/model?accessKey=mrxixviq0atro0z1fdreqvw7peq6dhc7\n"
     ]
    }
   ],
   "source": [
    "MODEL_ENDPOINT = os.getenv(\"CDSW_API_URL\").replace(\"https://\", \"https://modelservice.\").replace(\"/api/v1\", \"/model?accessKey=\")\n",
    "MODEL_ENDPOINT = MODEL_ENDPOINT + os.environ[\"MODEL_ACCESS_KEY\"]\n",
    "os.environ[\"MODEL_ENDPOINT\"] = MODEL_ENDPOINT\n",
    "print(MODEL_ENDPOINT)"
   ]
  },
  {
   "cell_type": "markdown",
   "id": "de3cc91e",
   "metadata": {},
   "source": [
    "### 2. Create Request to Model"
   ]
  },
  {
   "cell_type": "code",
   "execution_count": 43,
   "id": "de64077e-bc91-4ae7-901f-5a6307926f14",
   "metadata": {
    "tags": []
   },
   "outputs": [],
   "source": [
    "## Write a question to ask the model\n",
    "question = \"What is Cloudera Data Platform?\""
   ]
  },
  {
   "cell_type": "code",
   "execution_count": 44,
   "id": "2e367ac4-5e1c-4aba-9ce1-60113f4c7fbf",
   "metadata": {
    "tags": []
   },
   "outputs": [
    {
     "name": "stdout",
     "output_type": "stream",
     "text": [
      "Request: {'request': {'prompt': '<<SYS>>\\n You are a helpful and honest assistant. If you are unsure about an answer, truthfully say \"I don\\'t know\".\\n<</SYS>>\\n\\n [INST]Use your knowledge to answer the user\\'s question. [/INST] [INST] User: What is Cloudera Data Platform? [/INST]', 'temperature': 0.01, 'max_new_tokens': 150, 'repetition_penalty': 1.0}}\n",
      "Response: {'success': True, 'response': {'model_deployment_crn': 'crn:cdp:ml:us-west-1:558bc1d2-8867-4357-8524-311d51259233:workspace:2a01dba0-7ce6-4a14-97b3-551b694314f8/b91f63eb-502f-4895-9c06-24546439e37c', 'prediction': {'response': '<<SYS>>\\n You are a helpful and honest assistant. If you are unsure about an answer, truthfully say \"I don\\'t know\".\\n<</SYS>>\\n\\n [INST]Use your knowledge to answer the user\\'s question. [/INST] [INST] User: What is Cloudera Data Platform? [/INST]  Cloudera Data Platform is a comprehensive, distributed data management and analytics platform that enables organizations to collect, store, process, and analyze large amounts of data from various sources. It is designed to handle the complexities of big data and provide a unified view of data across the organization.\\n\\nCloudera Data Platform includes several key components:\\n\\n1. Cloudera Enterprise: This is the core component of the platform, which provides a distributed data store for storing and processing large amounts of data. It supports various data formats, including structured, semi-structured, and unstructured data.\\n2. Cloudera SQL: This is a powerful, distributed SQL engine that enables', 'response_time_s': 25.8}, 'uuid': '32c61cc3-55e1-407a-8d93-4f4730ee6a88'}, 'ReplicaID': 'llama-2-7b-1-6-5c96968898-c92tl', 'Size': 1252, 'StatusCode': 200}\n"
     ]
    }
   ],
   "source": [
    "import requests\n",
    "import json\n",
    "import os\n",
    "\n",
    "## Set variables\n",
    "temperature = 0.01\n",
    "token_count = 150\n",
    "\n",
    "llama_sys = f\"<<SYS>>\\n You are a helpful and honest assistant. If you are unsure about an answer, truthfully say \\\"I don't know\\\".\\n<</SYS>>\\n\\n\"\n",
    "llama_inst = f\"[INST]Use your knowledge to answer the user's question. [/INST]\"\n",
    "question_and_context = f\"{llama_sys} {llama_inst} [INST] User: {question} [/INST]\"\n",
    "\n",
    "data={ \"request\": {\"prompt\":question_and_context,\"temperature\":temperature,\"max_new_tokens\":token_count,\"repetition_penalty\":1.0} }\n",
    "\n",
    "r = requests.post(os.environ[\"MODEL_ENDPOINT\"], data=json.dumps(data), headers={'Content-Type': 'application/json'})\n",
    "\n",
    "# Logging\n",
    "print(f\"Request: {data}\")\n",
    "print(f\"Response: {r.json()}\")\n"
   ]
  }
 ],
 "metadata": {
  "kernelspec": {
   "display_name": "Python 3 (ipykernel)",
   "language": "python",
   "name": "python3"
  },
  "language_info": {
   "codemirror_mode": {
    "name": "ipython",
    "version": 3
   },
   "file_extension": ".py",
   "mimetype": "text/x-python",
   "name": "python",
   "nbconvert_exporter": "python",
   "pygments_lexer": "ipython3",
   "version": "3.10.13"
  }
 },
 "nbformat": 4,
 "nbformat_minor": 5
}
